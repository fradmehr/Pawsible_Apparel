{
 "cells": [
  {
   "cell_type": "markdown",
   "id": "31d58c46",
   "metadata": {},
   "source": [
    "#### Q5-b"
   ]
  },
  {
   "cell_type": "markdown",
   "id": "56f0c761",
   "metadata": {},
   "source": [
    "Client wants to segment products based on product dimensions so that they can customize the promotions on these defined segments. Build product segments and define names for each segment that will help you to explain them to the client’s C-Suite."
   ]
  },
  {
   "cell_type": "code",
   "execution_count": 1,
   "id": "be6b3335",
   "metadata": {},
   "outputs": [],
   "source": [
    "# Import necessory packages\n",
    "import pandas as pd\n",
    "import matplotlib.pyplot as plt\n",
    "import seaborn as sns\n",
    "import matplotlib.mlab as mlab\n",
    "import numpy as np\n",
    "from datetime import datetime\n",
    "from sklearn.model_selection import train_test_split\n",
    "from pandas import DataFrame\n",
    "import warnings\n",
    "import logging\n",
    "warnings.filterwarnings('ignore')\n",
    "logging.getLogger().setLevel(logging.ERROR)"
   ]
  },
  {
   "cell_type": "code",
   "execution_count": 2,
   "id": "79ba654a",
   "metadata": {},
   "outputs": [],
   "source": [
    "# Importing the data files\n",
    "sales = pd.read_csv('C:\\\\Users\\\\RadmehrFarzad\\\\OneDrive - Steampunk\\\\Desktop\\\\LEK\\\\all_sales.csv')\n",
    "product = pd.read_csv('C:\\\\Users\\\\RadmehrFarzad\\\\OneDrive - Steampunk\\\\Desktop\\\\LEK\\\\product_hierarchy.csv')\n",
    "store = pd.read_csv('C:\\\\Users\\\\RadmehrFarzad\\\\OneDrive - Steampunk\\\\Desktop\\\\LEK\\\\store_cities.csv')"
   ]
  },
  {
   "cell_type": "markdown",
   "id": "bf57e372",
   "metadata": {},
   "source": [
    "#### Q5"
   ]
  },
  {
   "cell_type": "code",
   "execution_count": 3,
   "id": "27da79be",
   "metadata": {},
   "outputs": [],
   "source": [
    "product['volume'] = product['product_length'] * product['product_depth'] * product['product_width']"
   ]
  },
  {
   "cell_type": "code",
   "execution_count": 4,
   "id": "88e0585a",
   "metadata": {},
   "outputs": [],
   "source": [
    "from sklearn import preprocessing\n",
    "product_sales = product.join(sales.set_index('product_id'), on='product_id').fillna(0)[['product_id','volume','promo_bin_1','promo_bin_2']]\n",
    "product_sales[\"product_id\"] = product_sales[\"product_id\"].str.replace(\"P\",\"\")\n",
    "product_sales_norm = product_sales.copy()\n",
    "scaler = preprocessing.MinMaxScaler()\n",
    "product_sales_norm[['product_id','volume']] = scaler.fit_transform(product_sales_norm[['product_id','volume']])"
   ]
  },
  {
   "cell_type": "code",
   "execution_count": 5,
   "id": "72e2cd79",
   "metadata": {},
   "outputs": [],
   "source": [
    "product_sales_norm = pd.get_dummies(product_sales_norm, columns=[\"promo_bin_1\",\"promo_bin_2\"])"
   ]
  },
  {
   "cell_type": "code",
   "execution_count": 6,
   "id": "fcd4bace",
   "metadata": {},
   "outputs": [],
   "source": [
    "from sklearn.cluster import KMeans\n",
    "kmeans = KMeans(3)"
   ]
  },
  {
   "cell_type": "code",
   "execution_count": 7,
   "id": "1d284ba7",
   "metadata": {},
   "outputs": [],
   "source": [
    "clusters = kmeans.fit_predict(product_sales_norm)\n",
    "labels = pd.DataFrame(clusters)"
   ]
  },
  {
   "cell_type": "code",
   "execution_count": 10,
   "id": "6e99f3f3",
   "metadata": {},
   "outputs": [],
   "source": [
    "labeledproduct_sales = pd.concat((product_sales.reset_index(),labels),axis=1)\n",
    "labeledproduct_sales= labeledproduct_sales.rename({0:'labels'},axis=1)"
   ]
  },
  {
   "cell_type": "code",
   "execution_count": 11,
   "id": "6292e8d4",
   "metadata": {},
   "outputs": [
    {
     "data": {
      "text/plain": [
       "2884        0001\n",
       "2885        0001\n",
       "2886        0001\n",
       "2887        0001\n",
       "2888        0001\n",
       "            ... \n",
       "19450224    0748\n",
       "19450225    0748\n",
       "19450226    0748\n",
       "19450227    0748\n",
       "19450228    0748\n",
       "Name: product_id, Length: 2651689, dtype: object"
      ]
     },
     "execution_count": 11,
     "metadata": {},
     "output_type": "execute_result"
    }
   ],
   "source": [
    "labeledproduct_sales.loc[labeledproduct_sales.labels == 2].product_id"
   ]
  },
  {
   "cell_type": "code",
   "execution_count": null,
   "id": "790478d8",
   "metadata": {},
   "outputs": [],
   "source": []
  }
 ],
 "metadata": {
  "kernelspec": {
   "display_name": "Python 3",
   "language": "python",
   "name": "python3"
  },
  "language_info": {
   "codemirror_mode": {
    "name": "ipython",
    "version": 3
   },
   "file_extension": ".py",
   "mimetype": "text/x-python",
   "name": "python",
   "nbconvert_exporter": "python",
   "pygments_lexer": "ipython3",
   "version": "3.8.8"
  }
 },
 "nbformat": 4,
 "nbformat_minor": 5
}
