{
 "cells": [
  {
   "cell_type": "code",
   "execution_count": 1,
   "id": "5cd01b50",
   "metadata": {},
   "outputs": [],
   "source": [
    "# Import necessory packages\n",
    "import pandas as pd\n",
    "import matplotlib.pyplot as plt\n",
    "import seaborn as sns\n",
    "import matplotlib.mlab as mlab\n",
    "import numpy as np\n",
    "from datetime import datetime\n",
    "from sklearn.model_selection import train_test_split\n",
    "from pandas import DataFrame\n",
    "import warnings\n",
    "import logging\n",
    "warnings.filterwarnings('ignore')\n",
    "logging.getLogger().setLevel(logging.ERROR)"
   ]
  },
  {
   "cell_type": "code",
   "execution_count": 2,
   "id": "cbbeda2e",
   "metadata": {},
   "outputs": [],
   "source": [
    "# Importing the data files\n",
    "sales = pd.read_csv('C:\\\\Users\\\\RadmehrFarzad\\\\OneDrive - Steampunk\\\\Desktop\\\\LEK\\\\all_sales.csv')\n",
    "product = pd.read_csv('C:\\\\Users\\\\RadmehrFarzad\\\\OneDrive - Steampunk\\\\Desktop\\\\LEK\\\\product_hierarchy.csv')\n",
    "store = pd.read_csv('C:\\\\Users\\\\RadmehrFarzad\\\\OneDrive - Steampunk\\\\Desktop\\\\LEK\\\\store_cities.csv')"
   ]
  },
  {
   "cell_type": "markdown",
   "id": "8b0882dc",
   "metadata": {},
   "source": [
    "#### Q1"
   ]
  },
  {
   "cell_type": "markdown",
   "id": "7066bac0",
   "metadata": {},
   "source": [
    "What is the largest product (based on product dimension sizes), and how much revenue was earned from it in 2018?"
   ]
  },
  {
   "cell_type": "code",
   "execution_count": 3,
   "id": "56954962",
   "metadata": {},
   "outputs": [],
   "source": [
    "product['volume'] = product['product_length'] * product['product_depth'] * product['product_width']"
   ]
  },
  {
   "cell_type": "code",
   "execution_count": 4,
   "id": "a5b563a1",
   "metadata": {},
   "outputs": [
    {
     "data": {
      "text/plain": [
       "581    P0621\n",
       "Name: product_id, dtype: object"
      ]
     },
     "execution_count": 4,
     "metadata": {},
     "output_type": "execute_result"
    }
   ],
   "source": [
    "product.loc[product.volume == product.volume.max(), 'product_id']"
   ]
  },
  {
   "cell_type": "code",
   "execution_count": 5,
   "id": "5f6c2f44",
   "metadata": {},
   "outputs": [
    {
     "data": {
      "text/plain": [
       "40732.229999999996"
      ]
     },
     "execution_count": 5,
     "metadata": {},
     "output_type": "execute_result"
    }
   ],
   "source": [
    "sales1 = sales.loc[(sales.date >= '2018-01-01') & (sales.date <= '2018-12-31')]\n",
    "sales1['revenue'] = pd.to_numeric(sales1['revenue'].str.replace(\"$\",\"\"))\n",
    "sales1['revenue'].loc[sales1.product_id == 'P0621'].fillna(0).sum()"
   ]
  },
  {
   "cell_type": "markdown",
   "id": "6e558f95",
   "metadata": {},
   "source": [
    "#### Q2"
   ]
  },
  {
   "cell_type": "markdown",
   "id": "7855d546",
   "metadata": {},
   "source": [
    "Which city produced the most revenue in 2018? How much revenue did that city produce?"
   ]
  },
  {
   "cell_type": "code",
   "execution_count": null,
   "id": "1f99e6d7",
   "metadata": {},
   "outputs": [],
   "source": []
  },
  {
   "cell_type": "code",
   "execution_count": 6,
   "id": "9598092d",
   "metadata": {},
   "outputs": [
    {
     "data": {
      "text/plain": [
       "81    S0085\n",
       "Name: store_id, dtype: object"
      ]
     },
     "execution_count": 6,
     "metadata": {},
     "output_type": "execute_result"
    }
   ],
   "source": [
    "sales2 = sales1.groupby('store_id')['revenue'].sum()\n",
    "sales2 = sales2.to_frame().reset_index()\n",
    "sales2 = sales2.rename(columns= {0: 'revenue'})\n",
    "\n",
    "sales2.loc[sales2.revenue == sales2.revenue.max(), 'store_id']"
   ]
  },
  {
   "cell_type": "code",
   "execution_count": 7,
   "id": "13ad3fd8",
   "metadata": {},
   "outputs": [
    {
     "data": {
      "text/plain": [
       "81    776114.4\n",
       "Name: revenue, dtype: float64"
      ]
     },
     "execution_count": 7,
     "metadata": {},
     "output_type": "execute_result"
    }
   ],
   "source": [
    "sales2.revenue.loc[sales2.store_id == 'S0085']"
   ]
  },
  {
   "cell_type": "markdown",
   "id": "0c42d0fb",
   "metadata": {},
   "source": [
    "#### Q3"
   ]
  },
  {
   "cell_type": "markdown",
   "id": "2734660a",
   "metadata": {},
   "source": [
    "Which product had the greatest number of days in 2019 where it wasn’t available in at least one store, how many days of the year was the product out of stock in at least one store?"
   ]
  },
  {
   "cell_type": "code",
   "execution_count": 8,
   "id": "f4b09068",
   "metadata": {},
   "outputs": [],
   "source": [
    "import datetime\n",
    "sales3 = sales.loc[(sales.date >= '2019-01-01') & (sales.date <= '2019-12-31')]\n",
    "sales3['date'] = pd.to_datetime(sales3['date'], format='%Y-%m-%d')"
   ]
  },
  {
   "cell_type": "code",
   "execution_count": 9,
   "id": "a08770ef",
   "metadata": {},
   "outputs": [
    {
     "name": "stdout",
     "output_type": "stream",
     "text": [
      "greatest number of days a product is OOS in at least one store: \n",
      "303\n",
      "proudct ID is: \n"
     ]
    },
    {
     "data": {
      "text/plain": [
       "101    P0140\n",
       "107    P0148\n",
       "138    P0185\n",
       "156    P0210\n",
       "164    P0219\n",
       "233    P0311\n",
       "273    P0364\n",
       "308    P0413\n",
       "323    P0428\n",
       "341    P0453\n",
       "419    P0550\n",
       "428    P0561\n",
       "562    P0735\n",
       "Name: product_id, dtype: object"
      ]
     },
     "execution_count": 9,
     "metadata": {},
     "output_type": "execute_result"
    }
   ],
   "source": [
    "#sales3 = sales.loc[(sales.date >= '2019-01-01') & (sales.date <= '2019-12-31')]\n",
    "sales3 = sales3[['product_id','date']]\n",
    "sales3 = sales3.loc[sales.stock == 0]\n",
    "g = sales3.sort_values('date').groupby('product_id').last() - sales3.sort_values('date').groupby('product_id').first()\n",
    "g = g.reset_index()\n",
    "g['days'] = pd.DataFrame(g[\"date\"].dt.days)\n",
    "print(\"greatest number of days a product is OOS in at least one store: \")\n",
    "print(g.days.max())\n",
    "print(\"proudct ID is: \")\n",
    "g.loc[g.days == 303].product_id"
   ]
  },
  {
   "cell_type": "markdown",
   "id": "bb01392a",
   "metadata": {},
   "source": [
    "#### Q4"
   ]
  },
  {
   "cell_type": "markdown",
   "id": "24f6cf68",
   "metadata": {},
   "source": [
    "Client’s C-Suite is wondering what the key drivers of sales are. As part of that, they are specifically wondering if there is a correlation between store size and the number of sales each store generates over years."
   ]
  },
  {
   "cell_type": "code",
   "execution_count": null,
   "id": "58f0514a",
   "metadata": {},
   "outputs": [],
   "source": []
  },
  {
   "cell_type": "code",
   "execution_count": 10,
   "id": "5d10c78a",
   "metadata": {},
   "outputs": [],
   "source": [
    "sales4 = sales[['store_id','date','sales']]\n",
    "sales4.sales = sales4.sales.fillna(0)\n",
    "sales4['date'] = pd.to_datetime(sales4['date'], format='%Y-%m-%d')\n",
    "sales4 = pd.DataFrame(sales4.groupby('store_id').sales.sum()).reset_index()\n",
    "sales4 = sales4.join(store.set_index('store_id'), on='store_id')[['sales','store_size']]"
   ]
  },
  {
   "cell_type": "code",
   "execution_count": 11,
   "id": "76e05631",
   "metadata": {},
   "outputs": [
    {
     "data": {
      "text/html": [
       "<div>\n",
       "<style scoped>\n",
       "    .dataframe tbody tr th:only-of-type {\n",
       "        vertical-align: middle;\n",
       "    }\n",
       "\n",
       "    .dataframe tbody tr th {\n",
       "        vertical-align: top;\n",
       "    }\n",
       "\n",
       "    .dataframe thead th {\n",
       "        text-align: right;\n",
       "    }\n",
       "</style>\n",
       "<table border=\"1\" class=\"dataframe\">\n",
       "  <thead>\n",
       "    <tr style=\"text-align: right;\">\n",
       "      <th></th>\n",
       "      <th>sales</th>\n",
       "      <th>store_size</th>\n",
       "    </tr>\n",
       "  </thead>\n",
       "  <tbody>\n",
       "    <tr>\n",
       "      <th>sales</th>\n",
       "      <td>1.000000</td>\n",
       "      <td>-0.532653</td>\n",
       "    </tr>\n",
       "    <tr>\n",
       "      <th>store_size</th>\n",
       "      <td>-0.532653</td>\n",
       "      <td>1.000000</td>\n",
       "    </tr>\n",
       "  </tbody>\n",
       "</table>\n",
       "</div>"
      ],
      "text/plain": [
       "               sales  store_size\n",
       "sales       1.000000   -0.532653\n",
       "store_size -0.532653    1.000000"
      ]
     },
     "execution_count": 11,
     "metadata": {},
     "output_type": "execute_result"
    }
   ],
   "source": [
    "sales4.corr(method='pearson')"
   ]
  },
  {
   "cell_type": "markdown",
   "id": "f93d4940",
   "metadata": {},
   "source": [
    "#### Q5-a"
   ]
  },
  {
   "cell_type": "markdown",
   "id": "be4512a2",
   "metadata": {},
   "source": [
    "Client wants to segment products based on product dimensions so that they can customize the promotions on these defined segments. Build product segments and define names for each segment that will help you to explain them to the client’s C-Suite."
   ]
  },
  {
   "cell_type": "code",
   "execution_count": 12,
   "id": "4b829347",
   "metadata": {},
   "outputs": [
    {
     "data": {
      "image/png": "[encoded data removed]",
      "text/plain": [
       "<Figure size 432x288 with 1 Axes>"
      ]
     },
     "metadata": {
      "needs_background": "light"
     },
     "output_type": "display_data"
    }
   ],
   "source": [
    "import matplotlib.pyplot as plt\n",
    "boxplot = product.boxplot(column=['product_length', 'product_depth', 'product_width'])  "
   ]
  },
  {
   "cell_type": "code",
   "execution_count": 13,
   "id": "e11c9c0e",
   "metadata": {},
   "outputs": [
    {
     "data": {
      "image/png": "[encoded data removed]",
      "text/plain": [
       "<Figure size 432x288 with 1 Axes>"
      ]
     },
     "metadata": {
      "needs_background": "light"
     },
     "output_type": "display_data"
    }
   ],
   "source": [
    "import matplotlib.pyplot as plt\n",
    "boxplot = product.boxplot(column=['volume'])  "
   ]
  },
  {
   "cell_type": "code",
   "execution_count": 14,
   "id": "729453bb",
   "metadata": {},
   "outputs": [
    {
     "data": {
      "text/html": [
       "<div>\n",
       "<style scoped>\n",
       "    .dataframe tbody tr th:only-of-type {\n",
       "        vertical-align: middle;\n",
       "    }\n",
       "\n",
       "    .dataframe tbody tr th {\n",
       "        vertical-align: top;\n",
       "    }\n",
       "\n",
       "    .dataframe thead th {\n",
       "        text-align: right;\n",
       "    }\n",
       "</style>\n",
       "<table border=\"1\" class=\"dataframe\">\n",
       "  <thead>\n",
       "    <tr style=\"text-align: right;\">\n",
       "      <th></th>\n",
       "      <th>product_length</th>\n",
       "      <th>product_depth</th>\n",
       "      <th>product_width</th>\n",
       "      <th>volume</th>\n",
       "    </tr>\n",
       "  </thead>\n",
       "  <tbody>\n",
       "    <tr>\n",
       "      <th>count</th>\n",
       "      <td>681.000000</td>\n",
       "      <td>683.000000</td>\n",
       "      <td>683.000000</td>\n",
       "      <td>6.810000e+02</td>\n",
       "    </tr>\n",
       "    <tr>\n",
       "      <th>mean</th>\n",
       "      <td>7.232305</td>\n",
       "      <td>18.460908</td>\n",
       "      <td>13.454758</td>\n",
       "      <td>7.225686e+03</td>\n",
       "    </tr>\n",
       "    <tr>\n",
       "      <th>std</th>\n",
       "      <td>8.512507</td>\n",
       "      <td>14.269750</td>\n",
       "      <td>10.137132</td>\n",
       "      <td>6.713589e+04</td>\n",
       "    </tr>\n",
       "    <tr>\n",
       "      <th>min</th>\n",
       "      <td>0.000000</td>\n",
       "      <td>0.000000</td>\n",
       "      <td>0.000000</td>\n",
       "      <td>0.000000e+00</td>\n",
       "    </tr>\n",
       "    <tr>\n",
       "      <th>25%</th>\n",
       "      <td>3.000000</td>\n",
       "      <td>10.900000</td>\n",
       "      <td>7.450000</td>\n",
       "      <td>3.240000e+02</td>\n",
       "    </tr>\n",
       "    <tr>\n",
       "      <th>50%</th>\n",
       "      <td>5.000000</td>\n",
       "      <td>17.000000</td>\n",
       "      <td>10.800000</td>\n",
       "      <td>7.264950e+02</td>\n",
       "    </tr>\n",
       "    <tr>\n",
       "      <th>75%</th>\n",
       "      <td>8.000000</td>\n",
       "      <td>23.150000</td>\n",
       "      <td>16.000000</td>\n",
       "      <td>1.875000e+03</td>\n",
       "    </tr>\n",
       "    <tr>\n",
       "      <th>max</th>\n",
       "      <td>100.000000</td>\n",
       "      <td>165.000000</td>\n",
       "      <td>100.000000</td>\n",
       "      <td>1.600000e+06</td>\n",
       "    </tr>\n",
       "  </tbody>\n",
       "</table>\n",
       "</div>"
      ],
      "text/plain": [
       "       product_length  product_depth  product_width        volume\n",
       "count      681.000000     683.000000     683.000000  6.810000e+02\n",
       "mean         7.232305      18.460908      13.454758  7.225686e+03\n",
       "std          8.512507      14.269750      10.137132  6.713589e+04\n",
       "min          0.000000       0.000000       0.000000  0.000000e+00\n",
       "25%          3.000000      10.900000       7.450000  3.240000e+02\n",
       "50%          5.000000      17.000000      10.800000  7.264950e+02\n",
       "75%          8.000000      23.150000      16.000000  1.875000e+03\n",
       "max        100.000000     165.000000     100.000000  1.600000e+06"
      ]
     },
     "execution_count": 14,
     "metadata": {},
     "output_type": "execute_result"
    }
   ],
   "source": [
    "product.describe()"
   ]
  },
  {
   "cell_type": "markdown",
   "id": "d8ab82e6",
   "metadata": {},
   "source": [
    "category 1 (small items: 25% of the products have less than following sizes): length <= 3, depth <= 11, width <= 7.5/\n",
    "/category 2 (median items: 50% of the products have less than following sizes): length <= 5, depth <= 17, width <= 10.8/\n",
    "/category 3 (large items: 75% of the products have less than following sizes): length <= 8, depth <= 23, width <= 16/\n",
    "/category 4 (very large items: 25% of the products have more than following sizes): length > 8, depth > 23, width > 16"
   ]
  },
  {
   "cell_type": "code",
   "execution_count": 15,
   "id": "d5bd818b",
   "metadata": {},
   "outputs": [
    {
     "data": {
      "text/plain": [
       "5.0"
      ]
     },
     "execution_count": 15,
     "metadata": {},
     "output_type": "execute_result"
    }
   ],
   "source": [
    "from statistics import mode\n",
    "mode(product.product_length)"
   ]
  }
 ],
 "metadata": {
  "kernelspec": {
   "display_name": "Python 3",
   "language": "python",
   "name": "python3"
  },
  "language_info": {
   "codemirror_mode": {
    "name": "ipython",
    "version": 3
   },
   "file_extension": ".py",
   "mimetype": "text/x-python",
   "name": "python",
   "nbconvert_exporter": "python",
   "pygments_lexer": "ipython3",
   "version": "3.8.8"
  }
 },
 "nbformat": 4,
 "nbformat_minor": 5
}
