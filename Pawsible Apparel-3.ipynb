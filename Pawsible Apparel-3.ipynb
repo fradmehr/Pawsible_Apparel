{
 "cells": [
  {
   "cell_type": "code",
   "execution_count": 1,
   "id": "d6bae713",
   "metadata": {},
   "outputs": [],
   "source": [
    "# Import necessory packages\n",
    "import pandas as pd\n",
    "import matplotlib.pyplot as plt\n",
    "import seaborn as sns\n",
    "import matplotlib.mlab as mlab\n",
    "import numpy as np\n",
    "from datetime import datetime\n",
    "from sklearn.model_selection import train_test_split\n",
    "from pandas import DataFrame\n",
    "import warnings\n",
    "import logging\n",
    "warnings.filterwarnings('ignore')\n",
    "logging.getLogger().setLevel(logging.ERROR)"
   ]
  },
  {
   "cell_type": "code",
   "execution_count": 2,
   "id": "fd812892",
   "metadata": {},
   "outputs": [],
   "source": [
    "# Importing the data files\n",
    "sales = pd.read_csv('C:\\\\Users\\\\RadmehrFarzad\\\\OneDrive - Steampunk\\\\Desktop\\\\LEK\\\\all_sales.csv')\n",
    "product = pd.read_csv('C:\\\\Users\\\\RadmehrFarzad\\\\OneDrive - Steampunk\\\\Desktop\\\\LEK\\\\product_hierarchy.csv')\n",
    "store = pd.read_csv('C:\\\\Users\\\\RadmehrFarzad\\\\OneDrive - Steampunk\\\\Desktop\\\\LEK\\\\store_cities.csv')"
   ]
  },
  {
   "cell_type": "markdown",
   "id": "0c4acd29",
   "metadata": {},
   "source": [
    "#### Q6"
   ]
  },
  {
   "cell_type": "markdown",
   "id": "44fb4554",
   "metadata": {},
   "source": [
    "Client wants to know what the main drivers for successful stores (success is defined as having high average monthly revenue). "
   ]
  },
  {
   "cell_type": "code",
   "execution_count": 3,
   "id": "cb508ffd",
   "metadata": {},
   "outputs": [],
   "source": [
    "# Lasso Technique for Feature Selection\n",
    "#X = df.drop(['revenue','product_id','store_id'], axis=1).values\n",
    "#y = df['revenue'].values\n",
    "#from sklearn.linear_model import Lasso\n",
    "#names = df.drop('revenue',axis=1).columns\n",
    "#lasso = Lasso(alpha=0.1)\n",
    "#lasso_coef = lasso.fit(X, y).coef_"
   ]
  },
  {
   "cell_type": "markdown",
   "id": "d04e47bf",
   "metadata": {},
   "source": [
    "#### a"
   ]
  },
  {
   "cell_type": "markdown",
   "id": "05aab894",
   "metadata": {},
   "source": [
    "Build a prediction model to find the main drivers of successful stores. Prepare to explain these drivers to the client’s C-Suite."
   ]
  },
  {
   "cell_type": "code",
   "execution_count": 4,
   "id": "c3b70101",
   "metadata": {},
   "outputs": [],
   "source": [
    "sales['revenue'] = pd.to_numeric(sales['revenue'].str.replace(\"$\",\"\")).fillna(0)"
   ]
  },
  {
   "cell_type": "code",
   "execution_count": 5,
   "id": "b6e65f08",
   "metadata": {},
   "outputs": [],
   "source": [
    "df = pd.DataFrame(sales.groupby('store_id').agg({'price':['mean'],'revenue':['sum']})).reset_index()"
   ]
  },
  {
   "cell_type": "code",
   "execution_count": 6,
   "id": "58b3377c",
   "metadata": {},
   "outputs": [],
   "source": [
    "df.columns = ['store_id','avg_price','total_revenue']"
   ]
  },
  {
   "cell_type": "code",
   "execution_count": 7,
   "id": "97957833",
   "metadata": {},
   "outputs": [],
   "source": [
    "df = df.join(store.set_index('store_id'), on='store_id')"
   ]
  },
  {
   "cell_type": "code",
   "execution_count": 8,
   "id": "be1e9047",
   "metadata": {},
   "outputs": [],
   "source": [
    "df['store_id'] = df['store_id'].astype(str).str.replace(\"S\",\"\").astype(int)\n",
    "df['storetype_id'] = df['storetype_id'].astype(str).str.replace(\"ST\",\"\").astype(int)\n",
    "df['city_id'] = df['city_id'].astype(str).str.replace(\"C\",\"\").astype(int)"
   ]
  },
  {
   "cell_type": "code",
   "execution_count": 9,
   "id": "07db2984",
   "metadata": {},
   "outputs": [],
   "source": [
    "from sklearn.preprocessing import StandardScaler, OneHotEncoder\n",
    "# Define which columns should be encoded vs scaled\n",
    "columns_to_encode = ['storetype_id']\n",
    "columns_to_scale  = ['avg_price', 'total_revenue','store_size','store_radius_hh_income','store_radius_pop_density']\n",
    "\n",
    "# Instantiate encoder/scaler\n",
    "scaler = StandardScaler()\n",
    "ohe    = OneHotEncoder(sparse=False)\n",
    "\n",
    "# Scale and Encode Separate Columns\n",
    "scaled_columns  = scaler.fit_transform(df[columns_to_scale]) \n",
    "encoded_columns =    ohe.fit_transform(df[columns_to_encode])\n",
    "\n",
    "# Concatenate (Column-Bind) Processed Columns Back Together\n",
    "processed_data = np.concatenate([scaled_columns, encoded_columns], axis=1)\n",
    "processed_data = pd.DataFrame(processed_data)\n",
    "processed_data.columns = ['avg_price','total_revenue','store_size','store_radius_hh_income','store_radius_pop_density','storetype_1','storetype_2','storetype_3','storetype_4']"
   ]
  },
  {
   "cell_type": "code",
   "execution_count": 10,
   "id": "67122bce",
   "metadata": {},
   "outputs": [
    {
     "data": {
      "text/html": [
       "<div>\n",
       "<style scoped>\n",
       "    .dataframe tbody tr th:only-of-type {\n",
       "        vertical-align: middle;\n",
       "    }\n",
       "\n",
       "    .dataframe tbody tr th {\n",
       "        vertical-align: top;\n",
       "    }\n",
       "\n",
       "    .dataframe thead th {\n",
       "        text-align: right;\n",
       "    }\n",
       "</style>\n",
       "<table border=\"1\" class=\"dataframe\">\n",
       "  <thead>\n",
       "    <tr style=\"text-align: right;\">\n",
       "      <th></th>\n",
       "      <th>avg_price</th>\n",
       "      <th>total_revenue</th>\n",
       "      <th>store_size</th>\n",
       "      <th>store_radius_hh_income</th>\n",
       "      <th>store_radius_pop_density</th>\n",
       "      <th>storetype_1</th>\n",
       "      <th>storetype_2</th>\n",
       "      <th>storetype_3</th>\n",
       "      <th>storetype_4</th>\n",
       "    </tr>\n",
       "  </thead>\n",
       "  <tbody>\n",
       "    <tr>\n",
       "      <th>0</th>\n",
       "      <td>1.507394</td>\n",
       "      <td>1.878939</td>\n",
       "      <td>-1.372316</td>\n",
       "      <td>0.209294</td>\n",
       "      <td>2.316534</td>\n",
       "      <td>0.0</td>\n",
       "      <td>0.0</td>\n",
       "      <td>0.0</td>\n",
       "      <td>1.0</td>\n",
       "    </tr>\n",
       "    <tr>\n",
       "      <th>1</th>\n",
       "      <td>1.116372</td>\n",
       "      <td>0.745862</td>\n",
       "      <td>-1.301283</td>\n",
       "      <td>1.105493</td>\n",
       "      <td>1.152003</td>\n",
       "      <td>1.0</td>\n",
       "      <td>0.0</td>\n",
       "      <td>0.0</td>\n",
       "      <td>0.0</td>\n",
       "    </tr>\n",
       "    <tr>\n",
       "      <th>2</th>\n",
       "      <td>-0.819843</td>\n",
       "      <td>-0.416284</td>\n",
       "      <td>0.332473</td>\n",
       "      <td>0.098543</td>\n",
       "      <td>-0.555397</td>\n",
       "      <td>0.0</td>\n",
       "      <td>0.0</td>\n",
       "      <td>1.0</td>\n",
       "      <td>0.0</td>\n",
       "    </tr>\n",
       "    <tr>\n",
       "      <th>3</th>\n",
       "      <td>-0.477940</td>\n",
       "      <td>-0.281526</td>\n",
       "      <td>0.971770</td>\n",
       "      <td>-1.054602</td>\n",
       "      <td>-0.362869</td>\n",
       "      <td>0.0</td>\n",
       "      <td>0.0</td>\n",
       "      <td>1.0</td>\n",
       "      <td>0.0</td>\n",
       "    </tr>\n",
       "    <tr>\n",
       "      <th>4</th>\n",
       "      <td>0.587073</td>\n",
       "      <td>-0.493512</td>\n",
       "      <td>0.261441</td>\n",
       "      <td>-1.193402</td>\n",
       "      <td>0.139593</td>\n",
       "      <td>0.0</td>\n",
       "      <td>0.0</td>\n",
       "      <td>0.0</td>\n",
       "      <td>1.0</td>\n",
       "    </tr>\n",
       "    <tr>\n",
       "      <th>...</th>\n",
       "      <td>...</td>\n",
       "      <td>...</td>\n",
       "      <td>...</td>\n",
       "      <td>...</td>\n",
       "      <td>...</td>\n",
       "      <td>...</td>\n",
       "      <td>...</td>\n",
       "      <td>...</td>\n",
       "      <td>...</td>\n",
       "    </tr>\n",
       "    <tr>\n",
       "      <th>139</th>\n",
       "      <td>-0.965242</td>\n",
       "      <td>-0.571019</td>\n",
       "      <td>1.042802</td>\n",
       "      <td>-1.149390</td>\n",
       "      <td>-0.802886</td>\n",
       "      <td>0.0</td>\n",
       "      <td>0.0</td>\n",
       "      <td>1.0</td>\n",
       "      <td>0.0</td>\n",
       "    </tr>\n",
       "    <tr>\n",
       "      <th>140</th>\n",
       "      <td>-0.677866</td>\n",
       "      <td>-0.687374</td>\n",
       "      <td>-0.022691</td>\n",
       "      <td>1.381559</td>\n",
       "      <td>-1.065022</td>\n",
       "      <td>0.0</td>\n",
       "      <td>0.0</td>\n",
       "      <td>1.0</td>\n",
       "      <td>0.0</td>\n",
       "    </tr>\n",
       "    <tr>\n",
       "      <th>141</th>\n",
       "      <td>0.368211</td>\n",
       "      <td>-0.179543</td>\n",
       "      <td>0.119375</td>\n",
       "      <td>-0.863313</td>\n",
       "      <td>-0.199729</td>\n",
       "      <td>0.0</td>\n",
       "      <td>0.0</td>\n",
       "      <td>1.0</td>\n",
       "      <td>0.0</td>\n",
       "    </tr>\n",
       "    <tr>\n",
       "      <th>142</th>\n",
       "      <td>-0.887248</td>\n",
       "      <td>-0.656696</td>\n",
       "      <td>1.255901</td>\n",
       "      <td>2.598467</td>\n",
       "      <td>-0.993531</td>\n",
       "      <td>0.0</td>\n",
       "      <td>0.0</td>\n",
       "      <td>1.0</td>\n",
       "      <td>0.0</td>\n",
       "    </tr>\n",
       "    <tr>\n",
       "      <th>143</th>\n",
       "      <td>0.031540</td>\n",
       "      <td>-0.416254</td>\n",
       "      <td>0.545572</td>\n",
       "      <td>0.592143</td>\n",
       "      <td>-0.555626</td>\n",
       "      <td>0.0</td>\n",
       "      <td>0.0</td>\n",
       "      <td>1.0</td>\n",
       "      <td>0.0</td>\n",
       "    </tr>\n",
       "  </tbody>\n",
       "</table>\n",
       "<p>144 rows × 9 columns</p>\n",
       "</div>"
      ],
      "text/plain": [
       "     avg_price  total_revenue  store_size  store_radius_hh_income  \\\n",
       "0     1.507394       1.878939   -1.372316                0.209294   \n",
       "1     1.116372       0.745862   -1.301283                1.105493   \n",
       "2    -0.819843      -0.416284    0.332473                0.098543   \n",
       "3    -0.477940      -0.281526    0.971770               -1.054602   \n",
       "4     0.587073      -0.493512    0.261441               -1.193402   \n",
       "..         ...            ...         ...                     ...   \n",
       "139  -0.965242      -0.571019    1.042802               -1.149390   \n",
       "140  -0.677866      -0.687374   -0.022691                1.381559   \n",
       "141   0.368211      -0.179543    0.119375               -0.863313   \n",
       "142  -0.887248      -0.656696    1.255901                2.598467   \n",
       "143   0.031540      -0.416254    0.545572                0.592143   \n",
       "\n",
       "     store_radius_pop_density  storetype_1  storetype_2  storetype_3  \\\n",
       "0                    2.316534          0.0          0.0          0.0   \n",
       "1                    1.152003          1.0          0.0          0.0   \n",
       "2                   -0.555397          0.0          0.0          1.0   \n",
       "3                   -0.362869          0.0          0.0          1.0   \n",
       "4                    0.139593          0.0          0.0          0.0   \n",
       "..                        ...          ...          ...          ...   \n",
       "139                 -0.802886          0.0          0.0          1.0   \n",
       "140                 -1.065022          0.0          0.0          1.0   \n",
       "141                 -0.199729          0.0          0.0          1.0   \n",
       "142                 -0.993531          0.0          0.0          1.0   \n",
       "143                 -0.555626          0.0          0.0          1.0   \n",
       "\n",
       "     storetype_4  \n",
       "0            1.0  \n",
       "1            0.0  \n",
       "2            0.0  \n",
       "3            0.0  \n",
       "4            1.0  \n",
       "..           ...  \n",
       "139          0.0  \n",
       "140          0.0  \n",
       "141          0.0  \n",
       "142          0.0  \n",
       "143          0.0  \n",
       "\n",
       "[144 rows x 9 columns]"
      ]
     },
     "execution_count": 10,
     "metadata": {},
     "output_type": "execute_result"
    }
   ],
   "source": [
    "processed_data"
   ]
  },
  {
   "cell_type": "markdown",
   "id": "1884e4db",
   "metadata": {},
   "source": [
    "#### b"
   ]
  },
  {
   "cell_type": "markdown",
   "id": "e1f0926f",
   "metadata": {},
   "source": [
    "How would you convince the client that your model performs well (or not)?"
   ]
  },
  {
   "cell_type": "markdown",
   "id": "87c6c055",
   "metadata": {},
   "source": [
    "by looking at the RMSE of train and test (error values). and also the errors for train and test are so close that we don't have overfitting or underfitting problem)"
   ]
  },
  {
   "cell_type": "code",
   "execution_count": 11,
   "id": "7595838b",
   "metadata": {},
   "outputs": [
    {
     "name": "stdout",
     "output_type": "stream",
     "text": [
      "Root Mean Squared Error-Train: 0.33043670373410217\n",
      "Root Mean Squared Error-Test: 0.8959999672809335\n"
     ]
    }
   ],
   "source": [
    "# Lasso Technique for Feature Selection\n",
    "X = processed_data.drop('total_revenue', axis=1).values\n",
    "y = processed_data['total_revenue'].values\n",
    "from sklearn.model_selection import train_test_split\n",
    "from sklearn import linear_model\n",
    "from sklearn import metrics\n",
    "X_train, X_test, y_train, y_test = train_test_split(X, y, test_size = 0.3, random_state=42)\n",
    "reg_all = linear_model.LinearRegression()\n",
    "reg_all.fit(X_train, y_train)\n",
    "\n",
    "print('Root Mean Squared Error-Train:', np.sqrt(metrics.mean_squared_error(y_train, reg_all.predict(X_train))))\n",
    "print('Root Mean Squared Error-Test:', np.sqrt(metrics.mean_squared_error(y_test, reg_all.predict(X_test))))\n"
   ]
  },
  {
   "cell_type": "markdown",
   "id": "4f0dea13",
   "metadata": {},
   "source": [
    "#### c"
   ]
  },
  {
   "cell_type": "markdown",
   "id": "15b4fac2",
   "metadata": {},
   "source": [
    "Client wants to open new stores to expand their footprint and would like to learn your recommendation whether to open the following potential stores."
   ]
  },
  {
   "cell_type": "code",
   "execution_count": 12,
   "id": "a51a901d",
   "metadata": {},
   "outputs": [
    {
     "data": {
      "text/html": [
       "<div>\n",
       "<style scoped>\n",
       "    .dataframe tbody tr th:only-of-type {\n",
       "        vertical-align: middle;\n",
       "    }\n",
       "\n",
       "    .dataframe tbody tr th {\n",
       "        vertical-align: top;\n",
       "    }\n",
       "\n",
       "    .dataframe thead th {\n",
       "        text-align: right;\n",
       "    }\n",
       "</style>\n",
       "<table border=\"1\" class=\"dataframe\">\n",
       "  <thead>\n",
       "    <tr style=\"text-align: right;\">\n",
       "      <th></th>\n",
       "      <th>avg_price</th>\n",
       "      <th>store_size</th>\n",
       "      <th>store_radius_hh_income</th>\n",
       "      <th>store_radius_pop_density</th>\n",
       "      <th>storetype_1</th>\n",
       "      <th>storetype_2</th>\n",
       "      <th>storetype_3</th>\n",
       "      <th>storetype_4</th>\n",
       "    </tr>\n",
       "  </thead>\n",
       "  <tbody>\n",
       "    <tr>\n",
       "      <th>0</th>\n",
       "      <td>10.5</td>\n",
       "      <td>62</td>\n",
       "      <td>52600</td>\n",
       "      <td>120.2</td>\n",
       "      <td>0</td>\n",
       "      <td>0</td>\n",
       "      <td>1</td>\n",
       "      <td>0</td>\n",
       "    </tr>\n",
       "    <tr>\n",
       "      <th>1</th>\n",
       "      <td>8.7</td>\n",
       "      <td>40</td>\n",
       "      <td>69800</td>\n",
       "      <td>520.6</td>\n",
       "      <td>0</td>\n",
       "      <td>0</td>\n",
       "      <td>0</td>\n",
       "      <td>1</td>\n",
       "    </tr>\n",
       "    <tr>\n",
       "      <th>2</th>\n",
       "      <td>7.9</td>\n",
       "      <td>50</td>\n",
       "      <td>78400</td>\n",
       "      <td>303.4</td>\n",
       "      <td>1</td>\n",
       "      <td>0</td>\n",
       "      <td>0</td>\n",
       "      <td>0</td>\n",
       "    </tr>\n",
       "  </tbody>\n",
       "</table>\n",
       "</div>"
      ],
      "text/plain": [
       "   avg_price  store_size  store_radius_hh_income  store_radius_pop_density  \\\n",
       "0       10.5          62                   52600                     120.2   \n",
       "1        8.7          40                   69800                     520.6   \n",
       "2        7.9          50                   78400                     303.4   \n",
       "\n",
       "   storetype_1  storetype_2  storetype_3  storetype_4  \n",
       "0            0            0            1            0  \n",
       "1            0            0            0            1  \n",
       "2            1            0            0            0  "
      ]
     },
     "execution_count": 12,
     "metadata": {},
     "output_type": "execute_result"
    }
   ],
   "source": [
    "d = {'avg_price': [10.5, 8.7,7.9], 'store_size': [62, 40,50], 'store_radius_hh_income':[52600,69800,78400],'store_radius_pop_density':[120.2,520.6,303.4],'storetype_1':[0,0,1],'storetype_1':[0,0,1],'storetype_2':[0,0,0],'storetype_3':[1,0,0],'storetype_4':[0,1,0]}\n",
    "\n",
    "df1 = pd.DataFrame(data=d)\n",
    "\n",
    "df1"
   ]
  },
  {
   "cell_type": "code",
   "execution_count": 13,
   "id": "7d99c3de",
   "metadata": {},
   "outputs": [
    {
     "data": {
      "text/plain": [
       "array([[ 1.34890655,  1.26012384, -1.33630621, -1.18865082],\n",
       "       [-0.30656967, -1.18599891,  0.26726124,  1.25790052],\n",
       "       [-1.04233688, -0.07412493,  1.06904497, -0.0692497 ]])"
      ]
     },
     "execution_count": 13,
     "metadata": {},
     "output_type": "execute_result"
    }
   ],
   "source": [
    "columns_to_scale1  = ['avg_price','store_size','store_radius_hh_income','store_radius_pop_density']\n",
    "scaled_columns1  = scaler.fit_transform(df1[columns_to_scale1]) \n",
    "#columns_to_encode1 = ['storetype_id']\n",
    "#encoded_columns1 =    ohe.fit_transform(df1[columns_to_encode1])\n",
    "scaled_columns1 "
   ]
  },
  {
   "cell_type": "code",
   "execution_count": 14,
   "id": "d1dfd425",
   "metadata": {},
   "outputs": [],
   "source": [
    "#encoded_columns1"
   ]
  },
  {
   "cell_type": "code",
   "execution_count": 15,
   "id": "a5f84410",
   "metadata": {},
   "outputs": [
    {
     "data": {
      "text/html": [
       "<div>\n",
       "<style scoped>\n",
       "    .dataframe tbody tr th:only-of-type {\n",
       "        vertical-align: middle;\n",
       "    }\n",
       "\n",
       "    .dataframe tbody tr th {\n",
       "        vertical-align: top;\n",
       "    }\n",
       "\n",
       "    .dataframe thead th {\n",
       "        text-align: right;\n",
       "    }\n",
       "</style>\n",
       "<table border=\"1\" class=\"dataframe\">\n",
       "  <thead>\n",
       "    <tr style=\"text-align: right;\">\n",
       "      <th></th>\n",
       "      <th>0</th>\n",
       "      <th>1</th>\n",
       "      <th>2</th>\n",
       "      <th>3</th>\n",
       "      <th>storetype_1</th>\n",
       "      <th>storetype_2</th>\n",
       "      <th>storetype_3</th>\n",
       "      <th>storetype_4</th>\n",
       "    </tr>\n",
       "  </thead>\n",
       "  <tbody>\n",
       "    <tr>\n",
       "      <th>0</th>\n",
       "      <td>1.348907</td>\n",
       "      <td>1.260124</td>\n",
       "      <td>-1.336306</td>\n",
       "      <td>-1.188651</td>\n",
       "      <td>0</td>\n",
       "      <td>0</td>\n",
       "      <td>1</td>\n",
       "      <td>0</td>\n",
       "    </tr>\n",
       "    <tr>\n",
       "      <th>1</th>\n",
       "      <td>-0.306570</td>\n",
       "      <td>-1.185999</td>\n",
       "      <td>0.267261</td>\n",
       "      <td>1.257901</td>\n",
       "      <td>0</td>\n",
       "      <td>0</td>\n",
       "      <td>0</td>\n",
       "      <td>1</td>\n",
       "    </tr>\n",
       "    <tr>\n",
       "      <th>2</th>\n",
       "      <td>-1.042337</td>\n",
       "      <td>-0.074125</td>\n",
       "      <td>1.069045</td>\n",
       "      <td>-0.069250</td>\n",
       "      <td>1</td>\n",
       "      <td>0</td>\n",
       "      <td>0</td>\n",
       "      <td>0</td>\n",
       "    </tr>\n",
       "  </tbody>\n",
       "</table>\n",
       "</div>"
      ],
      "text/plain": [
       "          0         1         2         3  storetype_1  storetype_2  \\\n",
       "0  1.348907  1.260124 -1.336306 -1.188651            0            0   \n",
       "1 -0.306570 -1.185999  0.267261  1.257901            0            0   \n",
       "2 -1.042337 -0.074125  1.069045 -0.069250            1            0   \n",
       "\n",
       "   storetype_3  storetype_4  \n",
       "0            1            0  \n",
       "1            0            1  \n",
       "2            0            0  "
      ]
     },
     "execution_count": 15,
     "metadata": {},
     "output_type": "execute_result"
    }
   ],
   "source": [
    "processed_data = pd.DataFrame(scaled_columns1)\n",
    "#processed_data.columns = ['avg_price','store_size','store_radius_hh_income','store_radius_pop_density','storetype_1','storetype_2','storetype_3','storetype_4']\n",
    "processed_data[['storetype_1','storetype_2','storetype_3','storetype_4']] = df1[['storetype_1','storetype_2','storetype_3','storetype_4']]\n",
    "processed_data"
   ]
  },
  {
   "cell_type": "code",
   "execution_count": 16,
   "id": "d7bde496",
   "metadata": {},
   "outputs": [
    {
     "data": {
      "text/plain": [
       "array([-0.91456088,  0.8283431 , -0.06706555])"
      ]
     },
     "execution_count": 16,
     "metadata": {},
     "output_type": "execute_result"
    }
   ],
   "source": [
    "reg_all.predict(processed_data)"
   ]
  },
  {
   "cell_type": "markdown",
   "id": "061963f5",
   "metadata": {},
   "source": [
    "#### Candidate # 2 is the winner."
   ]
  }
 ],
 "metadata": {
  "kernelspec": {
   "display_name": "Python 3",
   "language": "python",
   "name": "python3"
  },
  "language_info": {
   "codemirror_mode": {
    "name": "ipython",
    "version": 3
   },
   "file_extension": ".py",
   "mimetype": "text/x-python",
   "name": "python",
   "nbconvert_exporter": "python",
   "pygments_lexer": "ipython3",
   "version": "3.8.8"
  }
 },
 "nbformat": 4,
 "nbformat_minor": 5
}
